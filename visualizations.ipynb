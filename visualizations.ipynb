{
 "cells": [
  {
   "cell_type": "code",
   "execution_count": 1,
   "metadata": {},
   "outputs": [],
   "source": [
    "import pandas as pd\n",
    "import numpy as np\n",
    "import seaborn as sns\n",
    "from collections import defaultdict, Counter\n",
    "import matplotlib.pyplot as plt\n",
    "%matplotlib inline"
   ]
  },
  {
   "cell_type": "code",
   "execution_count": 2,
   "metadata": {},
   "outputs": [],
   "source": [
    "public_df = pd.read_csv('data/public-study/EmoTrak-emotrak-2018-04-19T20_50_09.379Z.csv')"
   ]
  },
  {
   "cell_type": "code",
   "execution_count": 61,
   "metadata": {},
   "outputs": [],
   "source": [
    "# fix 'embarrassed' spelling error:\n",
    "\n",
    "public_df['specificEmotion'] = public_df['specificEmotion'].replace('embarrased', 'embarrassed')"
   ]
  },
  {
   "cell_type": "markdown",
   "metadata": {},
   "source": [
    "### Create subset dataframe with parent/child emotions, triggers, responses"
   ]
  },
  {
   "cell_type": "code",
   "execution_count": 62,
   "metadata": {},
   "outputs": [],
   "source": [
    "subset = public_df[['generalEmotion', 'specificEmotion',\n",
    "       'intensity', 'generalTrigger', 'specificTrigger',\n",
    "       'bodySensationIntensity', \n",
    "        'emotionResponse',\n",
    "       'emotionDuration', 'emotionResponseHelpful']]"
   ]
  },
  {
   "cell_type": "markdown",
   "metadata": {},
   "source": [
    "### Match parent/child emotions/triggers/responses in dictionaries"
   ]
  },
  {
   "cell_type": "code",
   "execution_count": 71,
   "metadata": {},
   "outputs": [],
   "source": [
    "specific_emotions = defaultdict(int)\n",
    "specific_triggers = defaultdict(int)\n",
    "emotion_response_efficacy = defaultdict(int)"
   ]
  },
  {
   "cell_type": "code",
   "execution_count": 72,
   "metadata": {},
   "outputs": [],
   "source": [
    "cnt = Counter()\n",
    "def populate_dict(dictionary, col):\n",
    "    for emotion in col:\n",
    "        dictionary[emotion] += 1\n",
    "    return dictionary"
   ]
  },
  {
   "cell_type": "code",
   "execution_count": 73,
   "metadata": {},
   "outputs": [
    {
     "data": {
      "text/plain": [
       "defaultdict(int,\n",
       "            {'afraid': 85,\n",
       "             'angry': 169,\n",
       "             'annoyed': 336,\n",
       "             'anxious': 747,\n",
       "             'ashamed': 54,\n",
       "             'discouraged': 292,\n",
       "             'embarrassed': 34,\n",
       "             'enthusiastic': 447,\n",
       "             'excited': 358,\n",
       "             'frustrated': 386,\n",
       "             'happy': 959,\n",
       "             'irritated': 339,\n",
       "             'joyful': 347,\n",
       "             'lonely': 156,\n",
       "             'nervous': 226,\n",
       "             'notListed': 532,\n",
       "             'peaceful': 1320,\n",
       "             'sad': 278,\n",
       "             'worried': 361})"
      ]
     },
     "execution_count": 73,
     "metadata": {},
     "output_type": "execute_result"
    }
   ],
   "source": [
    "populate_dict(specific_emotions, subset['specificEmotion'])\n",
    "specific_emotions"
   ]
  },
  {
   "cell_type": "code",
   "execution_count": 74,
   "metadata": {},
   "outputs": [
    {
     "data": {
      "text/plain": [
       "defaultdict(int,\n",
       "            {'bodyImage': 31,\n",
       "             'clientChallenge': 143,\n",
       "             'clientEnjoyable': 74,\n",
       "             'climateChange': 6,\n",
       "             'colleagueChallenge': 262,\n",
       "             'colleagueEnjoyable': 187,\n",
       "             'dislikeJob': 98,\n",
       "             'domesticPolitics': 37,\n",
       "             'exercise': 237,\n",
       "             'familyChallenge': 277,\n",
       "             'financialStress': 78,\n",
       "             'friendsChallenge': 189,\n",
       "             'globalPolitics': 11,\n",
       "             'healthProblems': 207,\n",
       "             'healthcare': 19,\n",
       "             'lackMotivation': 249,\n",
       "             'lonely': 245,\n",
       "             nan: 35,\n",
       "             'other': 226,\n",
       "             'paperwork': 106,\n",
       "             'patientChallenge': 61,\n",
       "             'patientEnjoyable': 54,\n",
       "             'play': 948,\n",
       "             'productivity': 484,\n",
       "             'relaxation': 614,\n",
       "             'sleepDeprived': 154,\n",
       "             'soChallenge': 266,\n",
       "             'spiritual': 161,\n",
       "             'success': 258,\n",
       "             'timeFamily': 402,\n",
       "             'timeFriends': 367,\n",
       "             'timeSO': 274,\n",
       "             'workload': 666})"
      ]
     },
     "execution_count": 74,
     "metadata": {},
     "output_type": "execute_result"
    }
   ],
   "source": [
    "populate_dict(specific_triggers, subset['specificTrigger'])\n",
    "specific_triggers"
   ]
  },
  {
   "cell_type": "code",
   "execution_count": 75,
   "metadata": {},
   "outputs": [
    {
     "data": {
      "text/plain": [
       "defaultdict(int,\n",
       "            {'helpful': 1129,\n",
       "             nan: 3431,\n",
       "             'neutral': 1607,\n",
       "             'other': 76,\n",
       "             'regretful': 130,\n",
       "             'unhelpful': 944,\n",
       "             'veryHelpful': 109})"
      ]
     },
     "execution_count": 75,
     "metadata": {},
     "output_type": "execute_result"
    }
   ],
   "source": [
    "populate_dict(emotion_response_efficacy, subset['emotionResponseHelpful'])\n",
    "emotion_response_efficacy"
   ]
  },
  {
   "cell_type": "markdown",
   "metadata": {},
   "source": [
    "## Code that actually works:"
   ]
  },
  {
   "cell_type": "code",
   "execution_count": 63,
   "metadata": {},
   "outputs": [],
   "source": [
    "def create_dictionary(df, col1, col2):\n",
    "    temp = dict(df.groupby([col1])[col2].value_counts())\n",
    "    new_dict = defaultdict(dict)\n",
    "    for (outer, inner), value in temp.items():\n",
    "        new_dict[outer][inner] = value\n",
    "    return new_dict"
   ]
  },
  {
   "cell_type": "code",
   "execution_count": 66,
   "metadata": {},
   "outputs": [],
   "source": [
    "emotions = create_dictionary(subset, 'generalEmotion', 'specificEmotion')\n",
    "triggers = create_dictionary(subset, 'generalTrigger', 'specificTrigger')\n",
    "responses = create_dictionary(subset, 'emotionResponse', 'emotionResponseHelpful')"
   ]
  },
  {
   "cell_type": "code",
   "execution_count": 69,
   "metadata": {},
   "outputs": [
    {
     "name": "stdout",
     "output_type": "stream",
     "text": [
      "EMOTIONS:  defaultdict(<class 'dict'>, {'anger': {'frustrated': 386, 'irritated': 339, 'annoyed': 336, 'angry': 169}, 'enjoyment': {'peaceful': 1320, 'happy': 959, 'enthusiastic': 447, 'excited': 358, 'joyful': 347}, 'fear': {'anxious': 747, 'worried': 361, 'nervous': 226, 'afraid': 85}, 'other': {'notListed': 532, 'ashamed': 54, 'embarrassed': 34}, 'sadness': {'discouraged': 292, 'sad': 278, 'lonely': 156}})\n",
      "\n",
      "TRIGGERS:  defaultdict(<class 'dict'>, {'other': {'other': 177}, 'personalConcerns': {'healthProblems': 207, 'sleepDeprived': 154, 'financialStress': 78, 'bodyImage': 31}, 'socialStress': {'familyChallenge': 277, 'soChallenge': 266, 'lonely': 245, 'friendsChallenge': 189}, 'socialSupport': {'timeFamily': 402, 'timeFriends': 367, 'timeSO': 274}, 'wellbeing': {'play': 948, 'relaxation': 614, 'exercise': 237, 'spiritual': 161}, 'workSatisfaction': {'productivity': 484, 'success': 258, 'colleagueEnjoyable': 187, 'clientEnjoyable': 74, 'patientEnjoyable': 54}, 'workStress': {'workload': 666, 'colleagueChallenge': 262, 'lackMotivation': 249, 'clientChallenge': 143, 'paperwork': 106, 'dislikeJob': 98, 'patientChallenge': 61, 'healthcare': 19}, 'world': {'other': 49, 'domesticPolitics': 37, 'globalPolitics': 11, 'climateChange': 6}})\n",
      "\n",
      "RESPONSES: defaultdict(<class 'dict'>, {'action': {'helpful': 110, 'neutral': 35, 'unhelpful': 17, 'veryHelpful': 16, 'regretful': 11, 'other': 3}, 'avoidance': {'unhelpful': 30, 'neutral': 28, 'helpful': 14, 'regretful': 9, 'other': 1}, 'change': {'helpful': 17, 'neutral': 5, 'veryHelpful': 2, 'regretful': 1, 'unhelpful': 1}, 'enjoyment': {'helpful': 13, 'neutral': 6, 'veryHelpful': 5}, 'observation': {'neutral': 128, 'helpful': 56, 'unhelpful': 35, 'veryHelpful': 7}, 'rumination': {'unhelpful': 77, 'neutral': 23, 'regretful': 8, 'helpful': 4, 'other': 1}, 'suppression': {'unhelpful': 48, 'neutral': 47, 'helpful': 20, 'regretful': 4, 'other': 2}, 'talking': {'helpful': 52, 'neutral': 17, 'veryHelpful': 8, 'unhelpful': 6}, 'withdrawal': {'neutral': 12, 'unhelpful': 8, 'helpful': 4, 'other': 2, 'regretful': 2}, 'words': {'helpful': 24, 'neutral': 13, 'regretful': 8, 'unhelpful': 8, 'other': 1, 'veryHelpful': 1}})\n"
     ]
    }
   ],
   "source": [
    "print ('EMOTIONS: ', emotions)\n",
    "print ()\n",
    "print ('TRIGGERS: ', triggers)\n",
    "print ()\n",
    "print ('RESPONSES:', responses)"
   ]
  },
  {
   "cell_type": "code",
   "execution_count": null,
   "metadata": {},
   "outputs": [],
   "source": [
    "temp = dict(subset.groupby(['generalTrigger'])['specificTrigger'].value_counts())\n",
    "new_dict =defaultdict(dict)\n",
    "for (outer, inner), value in temp.items():\n",
    "    new_dict[outer][inner] = value\n",
    "new_dict"
   ]
  },
  {
   "cell_type": "markdown",
   "metadata": {},
   "source": [
    "## Graphs of emotions/triggers/responses\n",
    "\n",
    "- set colorcoding by parent/child relationships\n",
    "- function to plot distributions"
   ]
  },
  {
   "cell_type": "code",
   "execution_count": 76,
   "metadata": {},
   "outputs": [],
   "source": [
    "palette = {'enjoyment': '#c98709', 'fear': '#8c37a3', 'anger': '#810f09', 'sadness': '#0087ab', 'other': '#e6e71a'}"
   ]
  },
  {
   "cell_type": "code",
   "execution_count": 92,
   "metadata": {},
   "outputs": [],
   "source": [
    "def colorcode(dictionary):\n",
    "#     for emotion in subset['generalEmotion']:\n",
    "#         if emotion == 'anger':\n",
    "#             color[subset['specificEmotion']] = palette['anger']\n",
    "# #         elif emotion == 'peaceful' or emotion == 'happy' or emotion == 'enthusiastic' or emotion == 'excited' or emotion == 'joyful':\n",
    "# #             color[emotion] = palette['enjoyment']\n",
    "# #         elif emotion == 'anxious' or emotion == 'worried' or emotion == 'nervous' or emotion == 'afraid':\n",
    "# #             color[emotion] = palette['fear']\n",
    "# #         elif emotion == 'notListed' or emotion == 'ashamed' or emotion == 'embarrassed':\n",
    "# #             color[emotion] = palette['other']\n",
    "#         else:\n",
    "#             color[subset['specificEmotion']] = palette['sadness']\n",
    "#     return color\n",
    "    color = defaultdict(dict)\n",
    "    for key1, value in dictionary.items():\n",
    "        for key2 in value:\n",
    "            color[key2] = palette[key1]\n",
    "    return color"
   ]
  },
  {
   "cell_type": "code",
   "execution_count": 95,
   "metadata": {},
   "outputs": [
    {
     "ename": "KeyError",
     "evalue": "'personalConcerns'",
     "output_type": "error",
     "traceback": [
      "\u001b[0;31m---------------------------------------------------------------------------\u001b[0m",
      "\u001b[0;31mKeyError\u001b[0m                                  Traceback (most recent call last)",
      "\u001b[0;32m<ipython-input-95-a430fd027aa7>\u001b[0m in \u001b[0;36m<module>\u001b[0;34m()\u001b[0m\n\u001b[1;32m      1\u001b[0m \u001b[0mcolor_emotion\u001b[0m \u001b[0;34m=\u001b[0m \u001b[0mcolorcode\u001b[0m\u001b[0;34m(\u001b[0m\u001b[0memotions\u001b[0m\u001b[0;34m)\u001b[0m\u001b[0;34m\u001b[0m\u001b[0m\n\u001b[0;32m----> 2\u001b[0;31m \u001b[0mcolor_trigger\u001b[0m \u001b[0;34m=\u001b[0m \u001b[0mcolorcode\u001b[0m\u001b[0;34m(\u001b[0m\u001b[0mtriggers\u001b[0m\u001b[0;34m)\u001b[0m\u001b[0;34m\u001b[0m\u001b[0m\n\u001b[0m\u001b[1;32m      3\u001b[0m \u001b[0mcolor_response\u001b[0m \u001b[0;34m=\u001b[0m \u001b[0mcolorcode\u001b[0m\u001b[0;34m(\u001b[0m\u001b[0mresponses\u001b[0m\u001b[0;34m)\u001b[0m\u001b[0;34m\u001b[0m\u001b[0m\n",
      "\u001b[0;32m<ipython-input-92-e0342335f6fb>\u001b[0m in \u001b[0;36mcolorcode\u001b[0;34m(dictionary)\u001b[0m\n\u001b[1;32m     15\u001b[0m     \u001b[0;32mfor\u001b[0m \u001b[0mkey1\u001b[0m\u001b[0;34m,\u001b[0m \u001b[0mvalue\u001b[0m \u001b[0;32min\u001b[0m \u001b[0mdictionary\u001b[0m\u001b[0;34m.\u001b[0m\u001b[0mitems\u001b[0m\u001b[0;34m(\u001b[0m\u001b[0;34m)\u001b[0m\u001b[0;34m:\u001b[0m\u001b[0;34m\u001b[0m\u001b[0m\n\u001b[1;32m     16\u001b[0m         \u001b[0;32mfor\u001b[0m \u001b[0mkey2\u001b[0m \u001b[0;32min\u001b[0m \u001b[0mvalue\u001b[0m\u001b[0;34m:\u001b[0m\u001b[0;34m\u001b[0m\u001b[0m\n\u001b[0;32m---> 17\u001b[0;31m             \u001b[0mcolor\u001b[0m\u001b[0;34m[\u001b[0m\u001b[0mkey2\u001b[0m\u001b[0;34m]\u001b[0m \u001b[0;34m=\u001b[0m \u001b[0mpalette\u001b[0m\u001b[0;34m[\u001b[0m\u001b[0mkey1\u001b[0m\u001b[0;34m]\u001b[0m\u001b[0;34m\u001b[0m\u001b[0m\n\u001b[0m\u001b[1;32m     18\u001b[0m     \u001b[0;32mreturn\u001b[0m \u001b[0mcolor\u001b[0m\u001b[0;34m\u001b[0m\u001b[0m\n",
      "\u001b[0;31mKeyError\u001b[0m: 'personalConcerns'"
     ]
    }
   ],
   "source": [
    "color_emotion = colorcode(emotions)\n",
    "color_trigger = colorcode(triggers)\n",
    "color_response = colorcode(responses)\n",
    "\n",
    "## error here is because I haven't set colors yet for triggers or responses. Do that tonight :)\n"
   ]
  },
  {
   "cell_type": "code",
   "execution_count": 94,
   "metadata": {},
   "outputs": [
    {
     "data": {
      "text/plain": [
       "defaultdict(dict,\n",
       "            {'afraid': '#8c37a3',\n",
       "             'angry': '#810f09',\n",
       "             'annoyed': '#810f09',\n",
       "             'anxious': '#8c37a3',\n",
       "             'ashamed': '#e6e71a',\n",
       "             'discouraged': '#0087ab',\n",
       "             'embarrassed': '#e6e71a',\n",
       "             'enthusiastic': '#c98709',\n",
       "             'excited': '#c98709',\n",
       "             'frustrated': '#810f09',\n",
       "             'happy': '#c98709',\n",
       "             'irritated': '#810f09',\n",
       "             'joyful': '#c98709',\n",
       "             'lonely': '#0087ab',\n",
       "             'nervous': '#8c37a3',\n",
       "             'notListed': '#e6e71a',\n",
       "             'peaceful': '#c98709',\n",
       "             'sad': '#0087ab',\n",
       "             'worried': '#8c37a3'})"
      ]
     },
     "execution_count": 94,
     "metadata": {},
     "output_type": "execute_result"
    }
   ],
   "source": [
    "color_emotion"
   ]
  },
  {
   "cell_type": "code",
   "execution_count": 97,
   "metadata": {},
   "outputs": [
    {
     "data": {
      "image/png": "[encoded data removed]",
      "text/plain": [
       "<Figure size 2880x3168 with 8 Axes>"
      ]
     },
     "metadata": {},
     "output_type": "display_data"
    }
   ],
   "source": [
    "fig, axes = plt.subplots(8,1, figsize=(40,44))\n",
    "sns.countplot(x='generalEmotion', data=subset, orient='h', order = subset['generalEmotion'].value_counts().index, palette=palette, ax=axes[0]);\n",
    "sns.countplot(x='specificEmotion', data=subset, orient='h', palette=color_emotion, ax=axes[1]);\n",
    "\n",
    "# turn this into a plotting function... and set up colors for other graphs."
   ]
  },
  {
   "cell_type": "code",
   "execution_count": 88,
   "metadata": {},
   "outputs": [
    {
     "data": {
      "text/plain": [
       "dict_keys(['anger', 'enjoyment', 'fear', 'other', 'sadness'])"
      ]
     },
     "execution_count": 88,
     "metadata": {},
     "output_type": "execute_result"
    }
   ],
   "source": [
    "emotions.keys()"
   ]
  },
  {
   "cell_type": "code",
   "execution_count": 90,
   "metadata": {},
   "outputs": [
    {
     "data": {
      "text/plain": [
       "dict_values([{'frustrated': 386, 'irritated': 339, 'annoyed': 336, 'angry': 169}, {'peaceful': 1320, 'happy': 959, 'enthusiastic': 447, 'excited': 358, 'joyful': 347}, {'anxious': 747, 'worried': 361, 'nervous': 226, 'afraid': 85}, {'notListed': 532, 'ashamed': 54, 'embarrassed': 34}, {'discouraged': 292, 'sad': 278, 'lonely': 156}])"
      ]
     },
     "execution_count": 90,
     "metadata": {},
     "output_type": "execute_result"
    }
   ],
   "source": [
    "emotions.values()"
   ]
  },
  {
   "cell_type": "code",
   "execution_count": 91,
   "metadata": {},
   "outputs": [
    {
     "data": {
      "text/plain": [
       "dict_items([('anger', {'frustrated': 386, 'irritated': 339, 'annoyed': 336, 'angry': 169}), ('enjoyment', {'peaceful': 1320, 'happy': 959, 'enthusiastic': 447, 'excited': 358, 'joyful': 347}), ('fear', {'anxious': 747, 'worried': 361, 'nervous': 226, 'afraid': 85}), ('other', {'notListed': 532, 'ashamed': 54, 'embarrassed': 34}), ('sadness', {'discouraged': 292, 'sad': 278, 'lonely': 156})])"
      ]
     },
     "execution_count": 91,
     "metadata": {},
     "output_type": "execute_result"
    }
   ],
   "source": [
    "emotions.items()"
   ]
  },
  {
   "cell_type": "code",
   "execution_count": null,
   "metadata": {},
   "outputs": [],
   "source": []
  }
 ],
 "metadata": {
  "kernelspec": {
   "display_name": "Python 3",
   "language": "python",
   "name": "python3"
  },
  "language_info": {
   "codemirror_mode": {
    "name": "ipython",
    "version": 3
   },
   "file_extension": ".py",
   "mimetype": "text/x-python",
   "name": "python",
   "nbconvert_exporter": "python",
   "pygments_lexer": "ipython3",
   "version": "3.6.4"
  }
 },
 "nbformat": 4,
 "nbformat_minor": 2
}
