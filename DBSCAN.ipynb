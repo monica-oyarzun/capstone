{
 "cells": [
  {
   "cell_type": "code",
   "execution_count": 1,
   "metadata": {},
   "outputs": [],
   "source": [
    "import pandas as pd\n",
    "import numpy as np\n",
    "import matplotlib.pyplot as plt\n",
    "%matplotlib inline\n",
    "\n",
    "from sklearn.cluster import DBSCAN\n",
    "from sklearn.preprocessing import scale\n",
    "from sklearn.decomposition import PCA, TruncatedSVD\n",
    "\n",
    "from src.pre_processing import *"
   ]
  },
  {
   "cell_type": "code",
   "execution_count": 2,
   "metadata": {},
   "outputs": [
    {
     "name": "stdout",
     "output_type": "stream",
     "text": [
      "<class 'pandas.core.frame.DataFrame'>\n",
      "RangeIndex: 7426 entries, 0 to 7425\n",
      "Data columns (total 59 columns):\n",
      "row_id                                            7426 non-null int64\n",
      "user_id                                           7426 non-null object\n",
      "record_id                                         7426 non-null object\n",
      "recordReceived_ISO8601                            7426 non-null object\n",
      "recordReceived_secondsSinceMidnight1Jan1970UTC    7426 non-null int64\n",
      "surveyNumber                                      7426 non-null int64\n",
      "timestamp                                         7426 non-null datetime64[ns]\n",
      "startTime                                         7426 non-null datetime64[ns]\n",
      "associatedAlert                                   6696 non-null object\n",
      "responseLagSeconds                                6696 non-null float64\n",
      "dailyAlertNumber                                  6696 non-null float64\n",
      "spendingDay                                       755 non-null object\n",
      "spendingDayOther                                  116 non-null object\n",
      "sleptFor                                          755 non-null float64\n",
      "tiredness                                         6388 non-null float64\n",
      "connectedColleagues                               755 non-null object\n",
      "connectedPatients                                 755 non-null object\n",
      "feelingEmotion                                    7426 non-null int64\n",
      "generalEmotion                                    7426 non-null object\n",
      "specificEmotion                                   7426 non-null object\n",
      "otherEmotion                                      140 non-null object\n",
      "intensity                                         7426 non-null float64\n",
      "trigger                                           7417 non-null object\n",
      "generalTrigger                                    7391 non-null object\n",
      "specificTrigger                                   7391 non-null object\n",
      "bodySensationIntensity                            7426 non-null float64\n",
      "bodySensationForehead                             7426 non-null int64\n",
      "bodySensationEyes                                 7426 non-null int64\n",
      "bodySensationJaw                                  7426 non-null int64\n",
      "bodySensationNeck                                 7426 non-null int64\n",
      "bodySensationShoulders                            7426 non-null int64\n",
      "bodySensationChest                                7426 non-null int64\n",
      "bodySensationArms                                 7426 non-null int64\n",
      "bodySensationHands                                7426 non-null int64\n",
      "bodySensationStomach                              7426 non-null int64\n",
      "bodySensationBowel                                7426 non-null int64\n",
      "bodySensationLegs                                 7426 non-null int64\n",
      "bodySensationFeet                                 7426 non-null int64\n",
      "bodySensationLowerBack                            7426 non-null int64\n",
      "bodySensationUpperBack                            7426 non-null int64\n",
      "bodySensationOther                                7426 non-null int64\n",
      "bodySensationOtherLocation                        7426 non-null int64\n",
      "emotionResponse                                   1803 non-null object\n",
      "emotionDuration                                   7426 non-null object\n",
      "emotionResponseHelpful                            3995 non-null object\n",
      "selfCareEatingWell                                7426 non-null int64\n",
      "selfCareCooking                                   7426 non-null int64\n",
      "selfCareExercise                                  7426 non-null int64\n",
      "selfCareSeekingSupport                            7426 non-null int64\n",
      "selfCareTimeOutside                               7426 non-null int64\n",
      "selfCareSpiritualPractice                         7426 non-null int64\n",
      "selfCareQualityTimeTogether                       7426 non-null int64\n",
      "selfCareQualityTimeAlone                          7426 non-null int64\n",
      "selfCarePet                                       7426 non-null int64\n",
      "selfCareOther                                     7426 non-null int64\n",
      "selfCareNone                                      7426 non-null int64\n",
      "selfCareOtherActivity                             7426 non-null int64\n",
      "workPilingUp                                      6239 non-null float64\n",
      "workPositiveInfluence                             606 non-null object\n",
      "dtypes: datetime64[ns](2), float64(7), int64(32), object(18)\n",
      "memory usage: 3.3+ MB\n"
     ]
    }
   ],
   "source": [
    "public_df.info()"
   ]
  },
  {
   "cell_type": "code",
   "execution_count": 3,
   "metadata": {},
   "outputs": [
    {
     "data": {
      "text/plain": [
       "(5569, 59)"
      ]
     },
     "execution_count": 3,
     "metadata": {},
     "output_type": "execute_result"
    }
   ],
   "source": [
    "train.shape"
   ]
  },
  {
   "cell_type": "code",
   "execution_count": 4,
   "metadata": {},
   "outputs": [],
   "source": [
    "pd.set_option('display.max_columns', 999)"
   ]
  },
  {
   "cell_type": "code",
   "execution_count": 5,
   "metadata": {},
   "outputs": [],
   "source": [
    "train_subset = create_subset(train, cols_to_keep)\n",
    "test_subset = create_subset(test, cols_to_keep)"
   ]
  },
  {
   "cell_type": "code",
   "execution_count": 8,
   "metadata": {},
   "outputs": [
    {
     "name": "stdout",
     "output_type": "stream",
     "text": [
      "<class 'pandas.core.frame.DataFrame'>\n",
      "Int64Index: 3912 entries, 2967 to 2556\n",
      "Data columns (total 40 columns):\n",
      "responseLagSeconds             3912 non-null float64\n",
      "dailyAlertNumber               3912 non-null float64\n",
      "tiredness                      3912 non-null float64\n",
      "feelingEmotion                 3912 non-null int64\n",
      "generalEmotion                 3912 non-null object\n",
      "specificEmotion                3912 non-null object\n",
      "intensity                      3912 non-null float64\n",
      "generalTrigger                 3912 non-null object\n",
      "specificTrigger                3912 non-null object\n",
      "bodySensationIntensity         3912 non-null float64\n",
      "bodySensationForehead          3912 non-null int64\n",
      "bodySensationEyes              3912 non-null int64\n",
      "bodySensationJaw               3912 non-null int64\n",
      "bodySensationNeck              3912 non-null int64\n",
      "bodySensationShoulders         3912 non-null int64\n",
      "bodySensationChest             3912 non-null int64\n",
      "bodySensationArms              3912 non-null int64\n",
      "bodySensationHands             3912 non-null int64\n",
      "bodySensationStomach           3912 non-null int64\n",
      "bodySensationBowel             3912 non-null int64\n",
      "bodySensationLegs              3912 non-null int64\n",
      "bodySensationFeet              3912 non-null int64\n",
      "bodySensationLowerBack         3912 non-null int64\n",
      "bodySensationUpperBack         3912 non-null int64\n",
      "bodySensationOther             3912 non-null int64\n",
      "bodySensationOtherLocation     3912 non-null int64\n",
      "emotionDuration                3912 non-null object\n",
      "selfCareEatingWell             3912 non-null int64\n",
      "selfCareCooking                3912 non-null int64\n",
      "selfCareExercise               3912 non-null int64\n",
      "selfCareSeekingSupport         3912 non-null int64\n",
      "selfCareTimeOutside            3912 non-null int64\n",
      "selfCareSpiritualPractice      3912 non-null int64\n",
      "selfCareQualityTimeTogether    3912 non-null int64\n",
      "selfCareQualityTimeAlone       3912 non-null int64\n",
      "selfCarePet                    3912 non-null int64\n",
      "selfCareOther                  3912 non-null int64\n",
      "selfCareNone                   3912 non-null int64\n",
      "selfCareOtherActivity          3912 non-null int64\n",
      "workPilingUp                   3912 non-null float64\n",
      "dtypes: float64(6), int64(29), object(5)\n",
      "memory usage: 1.2+ MB\n"
     ]
    }
   ],
   "source": [
    "train_subset.info()"
   ]
  },
  {
   "cell_type": "code",
   "execution_count": 7,
   "metadata": {},
   "outputs": [
    {
     "name": "stderr",
     "output_type": "stream",
     "text": [
      "/anaconda3/lib/python3.6/site-packages/ipykernel_launcher.py:1: SettingWithCopyWarning: \n",
      "A value is trying to be set on a copy of a slice from a DataFrame\n",
      "\n",
      "See the caveats in the documentation: http://pandas.pydata.org/pandas-docs/stable/indexing.html#indexing-view-versus-copy\n",
      "  \"\"\"Entry point for launching an IPython kernel.\n",
      "/anaconda3/lib/python3.6/site-packages/ipykernel_launcher.py:2: SettingWithCopyWarning: \n",
      "A value is trying to be set on a copy of a slice from a DataFrame\n",
      "\n",
      "See the caveats in the documentation: http://pandas.pydata.org/pandas-docs/stable/indexing.html#indexing-view-versus-copy\n",
      "  \n"
     ]
    }
   ],
   "source": [
    "train_subset.dropna(inplace=True)\n",
    "test_subset.dropna(inplace=True)\n",
    "# this actually dropped a lot... look into other options"
   ]
  },
  {
   "cell_type": "code",
   "execution_count": 9,
   "metadata": {},
   "outputs": [
    {
     "name": "stderr",
     "output_type": "stream",
     "text": [
      "/anaconda3/lib/python3.6/site-packages/pandas/core/frame.py:3140: SettingWithCopyWarning: \n",
      "A value is trying to be set on a copy of a slice from a DataFrame.\n",
      "Try using .loc[row_indexer,col_indexer] = value instead\n",
      "\n",
      "See the caveats in the documentation: http://pandas.pydata.org/pandas-docs/stable/indexing.html#indexing-view-versus-copy\n",
      "  self[k1] = value[k2]\n",
      "/anaconda3/lib/python3.6/site-packages/pandas/core/frame.py:3697: SettingWithCopyWarning: \n",
      "A value is trying to be set on a copy of a slice from a DataFrame\n",
      "\n",
      "See the caveats in the documentation: http://pandas.pydata.org/pandas-docs/stable/indexing.html#indexing-view-versus-copy\n",
      "  errors=errors)\n"
     ]
    }
   ],
   "source": [
    "for col in cols_to_dummify:\n",
    "    dummify(train_subset, col)\n",
    "    dummify(test_subset, col)"
   ]
  },
  {
   "cell_type": "code",
   "execution_count": 31,
   "metadata": {},
   "outputs": [
    {
     "data": {
      "text/plain": [
       "pandas.core.series.Series"
      ]
     },
     "execution_count": 31,
     "metadata": {},
     "output_type": "execute_result"
    }
   ],
   "source": []
  },
  {
   "cell_type": "markdown",
   "metadata": {},
   "source": [
    "## SVD - Dimensionality Reduction"
   ]
  },
  {
   "cell_type": "code",
   "execution_count": 15,
   "metadata": {},
   "outputs": [],
   "source": [
    "X_centered = scale(train_subset, with_mean=False)"
   ]
  },
  {
   "cell_type": "code",
   "execution_count": 16,
   "metadata": {},
   "outputs": [],
   "source": [
    "svd = TruncatedSVD(n_components=10, n_iter=7)"
   ]
  },
  {
   "cell_type": "code",
   "execution_count": 17,
   "metadata": {},
   "outputs": [],
   "source": [
    "X_svd = svd.fit_transform(train_subset)"
   ]
  },
  {
   "cell_type": "code",
   "execution_count": 18,
   "metadata": {},
   "outputs": [
    {
     "data": {
      "text/plain": [
       "array([2.70509954e+06, 3.22839322e+03, 1.19199627e+02, 7.43925981e+01,\n",
       "       4.52484549e+01, 3.50815926e+01, 3.31025207e+01, 3.08283953e+01,\n",
       "       2.84907762e+01, 2.75059074e+01])"
      ]
     },
     "execution_count": 18,
     "metadata": {},
     "output_type": "execute_result"
    }
   ],
   "source": [
    "svd.singular_values_"
   ]
  },
  {
   "cell_type": "code",
   "execution_count": 19,
   "metadata": {},
   "outputs": [
    {
     "data": {
      "image/png": "[encoded data removed]",
      "text/plain": [
       "<Figure size 432x288 with 1 Axes>"
      ]
     },
     "metadata": {},
     "output_type": "display_data"
    }
   ],
   "source": [
    "s = svd.singular_values_\n",
    "\n",
    "x = [i+1 for i in range(len(s))]\n",
    "plt.plot(x, s, marker='o')\n",
    "plt.xlabel(\"Singular Values\")\n",
    "plt.ylabel(\"Value\");"
   ]
  },
  {
   "cell_type": "code",
   "execution_count": 34,
   "metadata": {},
   "outputs": [
    {
     "data": {
      "text/plain": [
       "array([2.30163722e+10, 1.11176367e+03, 2.51828124e+00, 1.43974772e+00,\n",
       "       5.18942197e-01, 3.09308550e-01, 2.79750046e-01, 2.43599429e-01,\n",
       "       2.13408981e-01, 1.92136483e-01])"
      ]
     },
     "execution_count": 34,
     "metadata": {},
     "output_type": "execute_result"
    }
   ],
   "source": [
    "svd.explained_variance_"
   ]
  },
  {
   "cell_type": "code",
   "execution_count": 35,
   "metadata": {},
   "outputs": [
    {
     "data": {
      "text/plain": [
       "array([9.99999951e-01, 4.83031648e-08, 1.09412599e-10, 6.25531962e-11,\n",
       "       2.25466536e-11, 1.34386311e-11, 1.21543930e-11, 1.05837451e-11,\n",
       "       9.27205070e-12, 8.34781745e-12])"
      ]
     },
     "execution_count": 35,
     "metadata": {},
     "output_type": "execute_result"
    }
   ],
   "source": [
    "svd.explained_variance_ratio_"
   ]
  },
  {
   "cell_type": "code",
   "execution_count": 20,
   "metadata": {},
   "outputs": [],
   "source": [
    "db_model = DBSCAN(metric='manhattan')"
   ]
  },
  {
   "cell_type": "code",
   "execution_count": 21,
   "metadata": {},
   "outputs": [
    {
     "data": {
      "text/plain": [
       "DBSCAN(algorithm='auto', eps=0.5, leaf_size=30, metric='manhattan',\n",
       "    metric_params=None, min_samples=5, n_jobs=1, p=None)"
      ]
     },
     "execution_count": 21,
     "metadata": {},
     "output_type": "execute_result"
    }
   ],
   "source": [
    "db_model.fit(X_svd)\n"
   ]
  },
  {
   "cell_type": "code",
   "execution_count": 25,
   "metadata": {},
   "outputs": [],
   "source": [
    "predictions = db_model.fit_predict(X_svd)"
   ]
  },
  {
   "cell_type": "code",
   "execution_count": 26,
   "metadata": {},
   "outputs": [
    {
     "data": {
      "text/plain": [
       "(array([-1]), array([3912]))"
      ]
     },
     "execution_count": 26,
     "metadata": {},
     "output_type": "execute_result"
    }
   ],
   "source": [
    "np.unique(predictions, return_counts=True)"
   ]
  },
  {
   "cell_type": "code",
   "execution_count": null,
   "metadata": {},
   "outputs": [],
   "source": []
  }
 ],
 "metadata": {
  "kernelspec": {
   "display_name": "Python 3",
   "language": "python",
   "name": "python3"
  },
  "language_info": {
   "codemirror_mode": {
    "name": "ipython",
    "version": 3
   },
   "file_extension": ".py",
   "mimetype": "text/x-python",
   "name": "python",
   "nbconvert_exporter": "python",
   "pygments_lexer": "ipython3",
   "version": "3.6.4"
  }
 },
 "nbformat": 4,
 "nbformat_minor": 2
}
